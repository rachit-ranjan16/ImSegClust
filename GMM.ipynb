{
 "cells": [
  {
   "cell_type": "code",
   "execution_count": 1,
   "metadata": {},
   "outputs": [],
   "source": [
    "import scipy.io as scio \n",
    "import numpy as np\n",
    "import matplotlib.pyplot as plt\n",
    "import skimage as ski\n",
    "from skimage.color import rgb2grey\n",
    "from sklearn.feature_extraction import image\n",
    "import skimage.measure\n",
    "from sklearn.mixture import GaussianMixture\n",
    "from sklearn import mixture"
   ]
  },
  {
   "cell_type": "code",
   "execution_count": 2,
   "metadata": {},
   "outputs": [],
   "source": [
    "pavia = {'rgb': scio.loadmat('PaviaRGB.mat')['PaviaRGB'],\n",
    "         'color_map' : scio.loadmat('PaviaColorMap.mat')['PaviaColorMap'],\n",
    "         'ground_truth' : scio.loadmat('PaviaGrTruth.mat')['PaviaGrTruth'],\n",
    "         'ground_truth_mask' : scio.loadmat('PaviaGrTruthMask.mat')['PaviaGrTruthMask'],\n",
    "         'wavelengths' : scio.loadmat('PaviaWavelengths.mat')['PaviaWavelengths'],\n",
    "        }\n",
    "sanbar = {'rgb': scio.loadmat('SanBarRGB.mat')['SanBarRGB'],\n",
    "          'wavelengths': scio.loadmat('SanBarWavelengths.mat')['WaveLengths'],\n",
    "          'hyperimage': scio.loadmat('SanBarHyperIm.mat')['SanBarIm88x400'],\n",
    "         }"
   ]
  },
  {
   "cell_type": "code",
   "execution_count": 53,
   "metadata": {},
   "outputs": [],
   "source": [
    "Img = pavia['rgb']\n",
    "[l,w,h] = Img.shape\n",
    "x = np.reshape(Img,(l*w,h))"
   ]
  },
  {
   "cell_type": "code",
   "execution_count": 56,
   "metadata": {},
   "outputs": [
    {
     "data": {
      "text/plain": [
       "(610, 340, 3)"
      ]
     },
     "execution_count": 56,
     "metadata": {},
     "output_type": "execute_result"
    }
   ],
   "source": [
    "Img.shape"
   ]
  },
  {
   "cell_type": "code",
   "execution_count": 58,
   "metadata": {},
   "outputs": [
    {
     "data": {
      "text/plain": [
       "GaussianMixture(covariance_type='full', init_params='kmeans', max_iter=20,\n",
       "        means_init=None, n_components=10, n_init=1, precisions_init=None,\n",
       "        random_state=0, reg_covar=1e-06, tol=0.001, verbose=0,\n",
       "        verbose_interval=10, warm_start=False, weights_init=None)"
      ]
     },
     "execution_count": 58,
     "metadata": {},
     "output_type": "execute_result"
    }
   ],
   "source": [
    "gmm = mixture.GaussianMixture(n_components=10, covariance_type='full', max_iter=20, random_state=0)\n",
    "gmm.fit(x)"
   ]
  },
  {
   "cell_type": "code",
   "execution_count": 59,
   "metadata": {
    "collapsed": true
   },
   "outputs": [
    {
     "name": "stdout",
     "output_type": "stream",
     "text": [
      "[[103.38089081 101.63617548  91.32683377]\n",
      " [ 39.65848126  64.74403577  36.4695182 ]\n",
      " [115.88208022 209.23027341 215.98904289]\n",
      " [159.53534198 151.95083297 122.55158729]\n",
      " [ 18.84328869  33.99027941  25.06165213]\n",
      " [101.76234754  90.27730871  62.63468859]\n",
      " [138.34690767  99.19791968  76.83977284]\n",
      " [ 72.87261087  73.9930689   47.3568242 ]\n",
      " [134.12119801 127.31134597 103.96527188]\n",
      " [ 71.42161206  89.62554965  87.57883597]]\n",
      "[[[ 218.44834089  136.20151481   69.64009593]\n",
      "  [ 136.20151481  163.51332826  124.35860816]\n",
      "  [  69.64009593  124.35860816  171.5544945 ]]\n",
      "\n",
      " [[  94.49364774   58.85674317   36.44977986]\n",
      "  [  58.85674317  262.34061134   48.65037665]\n",
      "  [  36.44977986   48.65037665   64.74725578]]\n",
      "\n",
      " [[2218.58079577  625.11645801  327.48309052]\n",
      "  [ 625.11645801  788.70435984  618.57009879]\n",
      "  [ 327.48309052  618.57009879  558.16954054]]\n",
      "\n",
      " [[ 902.46022902  655.18997784  474.43533652]\n",
      "  [ 655.18997784  819.36802818  769.96067372]\n",
      "  [ 474.43533652  769.96067372  901.36266108]]\n",
      "\n",
      " [[  85.11134475  164.47312492   76.24434773]\n",
      "  [ 164.47312492  389.75930937  167.48873141]\n",
      "  [  76.24434773  167.48873141  108.5959849 ]]\n",
      "\n",
      " [[ 232.65948359  104.54896142   95.07167749]\n",
      "  [ 104.54896142  103.68971679   63.6109034 ]\n",
      "  [  95.07167749   63.6109034    82.10905151]]\n",
      "\n",
      " [[1332.91606408  360.73367986  256.33280662]\n",
      "  [ 360.73367986  493.46167414  306.55444894]\n",
      "  [ 256.33280662  306.55444894  261.76450752]]\n",
      "\n",
      " [[ 210.44597826   44.92752237   81.03472975]\n",
      "  [  44.92752237  125.96980311   44.96653314]\n",
      "  [  81.03472975   44.96653314   74.21360144]]\n",
      "\n",
      " [[ 178.73786385  134.96479959   79.2927214 ]\n",
      "  [ 134.96479959  133.16416985   93.36184787]\n",
      "  [  79.2927214    93.36184787  108.02520864]]\n",
      "\n",
      " [[1027.36977165  969.48830199  817.05896908]\n",
      "  [ 969.48830199 1589.65195164 1438.07734334]\n",
      "  [ 817.05896908 1438.07734334 1703.04206067]]]\n"
     ]
    }
   ],
   "source": [
    "print(gmm.means_)\n",
    "print(gmm.covariances_)"
   ]
  },
  {
   "cell_type": "code",
   "execution_count": 66,
   "metadata": {},
   "outputs": [
    {
     "data": {
      "text/plain": [
       "array([0, 1, 2, 3, 4, 5, 6, 7, 8, 9], dtype=int64)"
      ]
     },
     "execution_count": 66,
     "metadata": {},
     "output_type": "execute_result"
    }
   ],
   "source": [
    "labels = gmm.predict(x)"
   ]
  }
 ],
 "metadata": {
  "kernelspec": {
   "display_name": "Python 3",
   "language": "python",
   "name": "python3"
  },
  "language_info": {
   "codemirror_mode": {
    "name": "ipython",
    "version": 3
   },
   "file_extension": ".py",
   "mimetype": "text/x-python",
   "name": "python",
   "nbconvert_exporter": "python",
   "pygments_lexer": "ipython3",
   "version": "3.6.4"
  }
 },
 "nbformat": 4,
 "nbformat_minor": 2
}
