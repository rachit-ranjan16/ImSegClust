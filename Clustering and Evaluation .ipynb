{
 "cells": [
  {
   "cell_type": "code",
   "execution_count": 1,
   "metadata": {},
   "outputs": [
    {
     "name": "stderr",
     "output_type": "stream",
     "text": [
      "backend module://ipykernel.pylab.backend_inline version unknown\n"
     ]
    }
   ],
   "source": [
    "import scipy.io as scio \n",
    "import matplotlib.cm as cm\n",
    "import matplotlib.pyplot as plt\n",
    "import matplotlib.cbook as cbook\n",
    "from sklearn.cluster import KMeans\n",
    "from sklearn.decomposition import PCA \n",
    "from sklearn.mixture import GaussianMixture\n",
    "from sklearn.cluster import KMeans, spectral_clustering\n",
    "from sklearn.feature_extraction import image\n",
    "import spectral as sp\n",
    "import numpy as np\n",
    "import glob\n",
    "import os\n",
    "import skimage as ski \n",
    "from skimage.measure import block_reduce\n",
    "import skfuzzy as skf\n",
    "from configparser import ConfigParser\n",
    "from scipy import ndimage \n",
    "import matplotlib.image as mpimg\n",
    "import sompy\n",
    "import pandas as pd"
   ]
  },
  {
   "cell_type": "code",
   "execution_count": 2,
   "metadata": {},
   "outputs": [],
   "source": [
    "# Loading Up Images for defaults \n",
    "\n",
    "pavia = {'rgb': scio.loadmat('PaviaRGB.mat')['PaviaRGB'],\n",
    "         'color_map' : scio.loadmat('PaviaColorMap.mat')['PaviaColorMap'],\n",
    "         'ground_truth' : scio.loadmat('PaviaGrTruth.mat')['PaviaGrTruth'],\n",
    "         'ground_truth_mask' : scio.loadmat('PaviaGrTruthMask.mat')['PaviaGrTruthMask'],\n",
    "         'hyperimage' : scio.loadmat('PaviaHyperIm.mat')['PaviaHyperIm'],\n",
    "         'wavelengths' : scio.loadmat('PaviaWavelengths.mat')['PaviaWavelengths'],\n",
    "        }\n",
    "sanbar = {'rgb': scio.loadmat('SanBarRGB.mat')['SanBarRGB'],\n",
    "          'wavelengths': scio.loadmat('SanBarWavelengths.mat')['WaveLengths'],\n",
    "          'hyperimage': scio.loadmat('SanBarHyperIm.mat')['SanBarIm88x400'],\n",
    "         }\n",
    "\n",
    "## Loading up Config Parameters \n",
    "\n",
    "config = ConfigParser()\n",
    "config.read('appConfig.ini')\n",
    "\n",
    "\n",
    "def k_means_clustering(n_clusters=2,inp_image=pavia['rgb']):\n",
    "    if inp_image is None:\n",
    "        print(\"Empty Input. Exiting\")\n",
    "        return None \n",
    "    # Create K Means Model \n",
    "    k_means = KMeans(n_clusters=n_clusters)\n",
    "    shape = inp_image.shape\n",
    "    # Fit on Input Image \n",
    "    k_means.fit(inp_image.flatten().reshape(shape[0]*shape[1],shape[2]))\n",
    "    # Get Cluster Labels\n",
    "    inp_clustered = k_means.labels_.astype(float)\n",
    "    \n",
    "    return inp_clustered.reshape(shape[0]*shape[1],1).reshape(shape[0],shape[1])\n",
    "\n",
    "\n",
    "def fuzzy_c_means(n_clusters=2, inp_image=pavia['rgb']):\n",
    "    if inp_image is None:\n",
    "        print(\"Empty Input. Exiting\")\n",
    "        return \n",
    "    \n",
    "    shape = inp_image.shape\n",
    "    # Create and Train on FCM Model \n",
    "    centers, u, u0, d, jm, n_iters, fpc = skf.cluster.cmeans(\n",
    "        inp_image.flatten().reshape(shape[0]*shape[1],shape[2]).T,\n",
    "        c=n_clusters,\n",
    "        m=float(config['FCM']['FUZZ_DEGREE']),\n",
    "        error=float(config['FCM']['ERROR']),\n",
    "        maxiter=int(config['FCM']['MAX_ITER']),\n",
    "        init=None,\n",
    "        seed=int(config['FCM']['SEED'])\n",
    "    )\n",
    "    # Get Cluster Labels with Max Porbability \n",
    "    clust = np.argmax(u, axis=0).astype(float)\n",
    "    \n",
    "    return clust.reshape(shape[0]*shape[1],1).reshape(shape[0],shape[1])\n",
    "\n",
    "\n",
    "def gaussian_mixture_model(n_clusters=2,inp_image=pavia['rgb']):\n",
    "    shape = inp_image.shape\n",
    "    inp_image = inp_image.flatten().reshape(shape[0]*shape[1],shape[2])\n",
    "    # Create Gaussian Mixture Model with Config Parameters\n",
    "    gmm = GaussianMixture(\n",
    "        n_components=n_clusters, covariance_type=config['GMM']['COVARIANCE_TYPE'],\n",
    "        max_iter=int(config['GMM']['MAX_ITER']), random_state=int(config['GMM']['RANDOM_STATE']))\n",
    "    # Fit on Input Image\n",
    "    gmm.fit(X=inp_image)\n",
    "    # Get Cluster Labels \n",
    "    clust = gmm.predict(X=inp_image)\n",
    "    \n",
    "    return clust.reshape(shape[0]*shape[1],1).reshape(shape[0],shape[1])\n",
    "   \n",
    "def spectral_cluster(n_clusters=2, inp_image=pavia['rgb']):\n",
    "    downsample = block_reduce(inp_image, (8,4,1), func=np.max)\n",
    "    graph = image.img_to_graph(downsample)\n",
    "    graph.data = np.exp(-graph.data / graph.data.std())\n",
    "    return spectral_clustering(graph, n_clusters=n_clusters, eigen_solver=config['SPECTRAL']['EIGEN_SOLVER'])\n",
    "    \n",
    "def SOM(n_clusters=5, n_job=5, map_dim=20, inp_image=pavia['rgb']):\n",
    "\n",
    "    # Calculate the map\n",
    "    mapsize = [map_dim,map_dim]\n",
    "    shape = inp_image.shape\n",
    "    data = inp_image.flatten().reshape(shape[0]*shape[1],shape[2])\n",
    "    som = sompy.SOMFactory.build(data, mapsize)  \n",
    "    som.train(n_job=n_job, verbose=None)\n",
    "    \n",
    "    #calculating clusters\n",
    "    cl = som.cluster(n_clusters=n_clusters)\n",
    "    \n",
    "    # calculating which pixel is associated which cluster\n",
    "    project_data = som.project_data(data)\n",
    "    clust = np.zeros((shape[0], shape[1]))\n",
    "    for i, q in enumerate(project_data):\n",
    "        temp = cl[q]\n",
    "        clust[np.unravel_index(i, dims=((shape[0], shape[1])))] = temp\n",
    "\n",
    "    return clust\n",
    "\n",
    "def postprocess(inp_image):\n",
    "    # Median filter as a post processing step to remove small clusters.\n",
    "    window_size = int(config['MEDIAN_FILTER']['WINDOW_SIZE'])\n",
    "    return ndimage.median_filter(inp_image, size=window_size)"
   ]
  },
  {
   "cell_type": "code",
   "execution_count": 3,
   "metadata": {},
   "outputs": [],
   "source": [
    "def MyClust(image=pavia['rgb'],params={'Algorithm': 'KMeans',\n",
    "                                       'ImType': 'RGB',\n",
    "                                       'NumClusts': 3}):\n",
    "    # Preprocessing Input Image\n",
    "    #inp_image = preprocess(image)\n",
    "    \n",
    "    shape = image.shape\n",
    "    CCIm = None\n",
    "    out_labels = None \n",
    "    nr_objects = None \n",
    "    \n",
    "    if params['ImType'].upper() == 'HYPER':\n",
    "        # Dimensionality Reduction for Hyperimage \n",
    "        n_components = int(config['HYPER']['N_COMPONENTS'])\n",
    "        hyper = image.flatten().reshape(shape[0]*shape[1],shape[2])\n",
    "        pca = PCA(n_components=n_components, svd_solver='auto').fit(hyper)\n",
    "        image = pca.transform(hyper).reshape(shape[0],shape[1],n_components)\n",
    "    \n",
    "    # Resetting Shape in case input was hyper image and underwent dimensionality reduction \n",
    "    shape = image.shape\n",
    "    \n",
    "    n_clusters = params['NumClusts']\n",
    "    if params['NumClusts'] > 0.25 * shape[0] * shape[1]:\n",
    "        print('NumClusts higher than 25% of Number of Pixels\\nExiting...')\n",
    "    elif params['NumClusts'] == 1:\n",
    "        n_clusters = int(0.05 * shape[0] * shape[1])\n",
    "    \n",
    "    \n",
    "    if params['Algorithm'].upper() == 'KMEANS':\n",
    "        out_labels = k_means_clustering(n_clusters=n_clusters, inp_image=image)   \n",
    "    \n",
    "    elif params['Algorithm'].upper() == 'FCM':\n",
    "        out_labels = fuzzy_c_means(n_clusters=n_clusters, inp_image=image)   \n",
    "    \n",
    "    elif params['Algorithm'].upper() == 'SOM':    \n",
    "        out_labels = SOM(n_clusters=n_clusters,n_job =int(config['SOM']['N_JOB']),\n",
    "                         map_dim=int(config['SOM']['MAP_DIM']),\n",
    "                         inp_image=image)\n",
    "\n",
    "    elif params['Algorithm'].upper() == 'SPECTRAL':\n",
    "        out_labels = spectral_cluster(n_clusters=n_clusters, inp_image=image)\n",
    "    elif params['Algorithm'].upper() == 'GMM':\n",
    "        out_labels = gaussian_mixture_model(n_clusters=n_clusters, inp_image=image)\n",
    "    else:\n",
    "        print('Invalid Algorithm Entered')\n",
    "        return None, None \n",
    "    \n",
    "    if params['ImType'].upper() == 'RGB':\n",
    "        out_labels = postprocess(out_labels)\n",
    "        CCIm, nr_objects = ndimage.label(out_labels)\n",
    "        \n",
    "    return out_labels, CCIm, nr_objects\n",
    "     "
   ]
  },
  {
   "cell_type": "code",
   "execution_count": 4,
   "metadata": {},
   "outputs": [],
   "source": [
    "out_labels, CCIm, nr_objects = MyClust(image=pavia['rgb'], params={'Algorithm': 'FCM',\n",
    "                                                      'ImType': 'rgb',\n",
    "                                                      'NumClusts': 5})"
   ]
  },
  {
   "cell_type": "code",
   "execution_count": 5,
   "metadata": {},
   "outputs": [
    {
     "data": {
      "text/plain": [
       "array([[3., 3., 3., ..., 0., 0., 0.],\n",
       "       [3., 3., 3., ..., 0., 0., 0.],\n",
       "       [3., 3., 3., ..., 0., 0., 0.],\n",
       "       ...,\n",
       "       [4., 4., 4., ..., 0., 0., 0.],\n",
       "       [4., 4., 4., ..., 0., 0., 0.],\n",
       "       [4., 4., 4., ..., 0., 0., 0.]])"
      ]
     },
     "execution_count": 5,
     "metadata": {},
     "output_type": "execute_result"
    }
   ],
   "source": [
    "out_labels"
   ]
  },
  {
   "cell_type": "code",
   "execution_count": 6,
   "metadata": {},
   "outputs": [
    {
     "name": "stderr",
     "output_type": "stream",
     "text": [
      "findfont: Matching :family=sans-serif:style=normal:variant=normal:weight=normal:stretch=normal:size=10.0 to DejaVu Sans ('/home/srajan/anaconda3/lib/python3.6/site-packages/matplotlib/mpl-data/fonts/ttf/DejaVuSans.ttf') with score of 0.050000\n"
     ]
    },
    {
     "data": {
      "image/png": "[encoded data removed]",
      "text/plain": [
       "<Figure size 432x288 with 2 Axes>"
      ]
     },
     "metadata": {},
     "output_type": "display_data"
    }
   ],
   "source": [
    "def label_show(im):\n",
    "    cmap = cm.get_cmap('tab20c', 9)\n",
    "    plt.imshow(im, cmap=cmap, vmin=0, vmax=9)\n",
    "    plt.colorbar(ticks=np.linspace(0,9,10))\n",
    "    plt.show()\n",
    "label_show(out_labels)"
   ]
  },
  {
   "cell_type": "markdown",
   "metadata": {},
   "source": [
    "## Evaluation"
   ]
  },
  {
   "cell_type": "code",
   "execution_count": 7,
   "metadata": {},
   "outputs": [],
   "source": [
    "def PartialError(g, s):\n",
    "    \"\"\"Patial Error function.\"\"\"\n",
    "    \n",
    "    clust_g = np.unique(g)\n",
    "    clust_s = np.unique(s)\n",
    "    err = 0.0\n",
    "\n",
    "    for j in clust_g:\n",
    "        # initializing inner summation is the formaula.\n",
    "        inner = 0.0\n",
    "        \n",
    "        Aj = (g == j)\n",
    "        Wj = 0.0\n",
    "        Wj += np.sum(Aj,dtype=np.float_)/(g.size)\n",
    "        \n",
    "        # calculating denominator for Wji\n",
    "        Wji_den = np.sum([(np.sum(np.logical_and(Aj, s == x))!=0) * np.sum(s == x) for x in clust_s],\n",
    "                         dtype=np.float_)\n",
    "        \n",
    "        # calculating inner summation\n",
    "        for i in clust_s:\n",
    "            # Wji\n",
    "            Bi = ( s == i )\n",
    "            Wji = ((np.sum(np.logical_and(Aj,Bi),dtype=np.float_)!=0) * np.sum(Bi)) / Wji_den\n",
    "\n",
    "            inner += (np.sum(np.logical_and(Aj,Bi),dtype=np.float_) / \n",
    "                      np.sum(np.logical_or(Aj,Bi),dtype=np.float_))*Wji\n",
    "\n",
    "            \n",
    "        # calculating outer summation\n",
    "        err += (1-inner)*Wj\n",
    "\n",
    "    return err"
   ]
  },
  {
   "cell_type": "code",
   "execution_count": 8,
   "metadata": {},
   "outputs": [],
   "source": [
    "def MyMartinIndex7(gtImage, sImage):\n",
    "    \"\"\"Object-level Consistency Error Martin Index.\"\"\"\n",
    "    clust_gtImage = np.unique(gtImage)\n",
    "    clust_sImage = np.unique(sImage)\n",
    "    score = np.min([PartialError(gtImage, sImage), PartialError(sImage, gtImage)])\n",
    "    return score "
   ]
  },
  {
   "cell_type": "code",
   "execution_count": 9,
   "metadata": {},
   "outputs": [
    {
     "name": "stdout",
     "output_type": "stream",
     "text": [
      "All Tests ran sucessfully.\n"
     ]
    }
   ],
   "source": [
    "gt = np.array([[1, 1, 1, 1],\n",
    "               [1, 1, 1, 1],\n",
    "               [1, 1, 1, 1],\n",
    "               [1, 1, 1, 1]])\n",
    "\n",
    "im1=np.array([ [1, 1, 1, 1],\n",
    "               [1, 1, 1, 1],\n",
    "               [1, 1, 1, 1],\n",
    "               [1, 1, 1, 1]])\n",
    "\n",
    "im2=np.array([ [1, 1, 2, 2],\n",
    "               [1, 1, 2, 2],\n",
    "               [1, 1, 2, 2],\n",
    "               [1, 1, 2, 2]])\n",
    "\n",
    "im3=np.array([ [1, 1, 2, 2],\n",
    "               [1, 1, 2, 2],\n",
    "               [1, 1, 3, 3],\n",
    "               [1, 1, 3, 3]])\n",
    "im4=np.zeros((4,4), dtype=np.int16)\n",
    "\n",
    "# Test 1: Perfect match\n",
    "assert MyMartinIndex7(gt,im1)==0\n",
    "\n",
    "# Test 2: Terrible match\n",
    "assert MyMartinIndex7(gt,im4)==0\n",
    "\n",
    "# Test 3: Example 1\n",
    "assert MyMartinIndex7(gt,im2)==0.5\n",
    "\n",
    "# Test 4: Example 2\n",
    "assert MyMartinIndex7(gt,im3)==0.625\n",
    "\n",
    "print(\"All Tests ran sucessfully.\")"
   ]
  },
  {
   "cell_type": "code",
   "execution_count": 10,
   "metadata": {},
   "outputs": [],
   "source": [
    "def MyClustEvalRGB(gtImage1, gtImage2, gtImage3, sImage):\n",
    "    score1 = np.min([PartialError(gtImage1, sImage), PartialError(sImage, gtImage1)])\n",
    "    score2 = np.min([PartialError(gtImage2, sImage), PartialError(sImage, gtImage2)])\n",
    "    score3 = np.min([PartialError(gtImage3, sImage), PartialError(sImage, gtImage3)])\n",
    "    scores = np.array([score1, score2, score3])\n",
    "    return np.min(scores)"
   ]
  },
  {
   "cell_type": "code",
   "execution_count": 11,
   "metadata": {},
   "outputs": [],
   "source": [
    "def MyClustEvalRGB7(algo=\"KMeans\",imType=\"rgb\", numClusts = 5):\n",
    "    scores = []\n",
    "    i =0\n",
    "    for mat_file in glob.glob('ImsAndSegs/*.mat'):\n",
    "        if i==3:\n",
    "            break;\n",
    "        i +=1\n",
    "        img = scio.loadmat(mat_file)\n",
    "        seg1 = img['Seg1']\n",
    "        seg2 = img['Seg2']\n",
    "        seg3 = img['Seg3']\n",
    "        sImage, CCIm, nr_objects = MyClust(image=img['Im'], params={'Algorithm': algo,\n",
    "                                                      'ImType': imType,\n",
    "                                                      'NumClusts': numClusts})\n",
    "        score = MyClustEvalRGB(seg1, seg2, seg3, sImage)\n",
    "        scores.append(score)\n",
    "        #print(score)\n",
    "    # mean for all 198 images for a given clustering algo\n",
    "    mean = np.mean(scores)\n",
    "    #standard deviation for the clustering algo\n",
    "    std = np.std(scores)\n",
    "    return mean, std"
   ]
  },
  {
   "cell_type": "code",
   "execution_count": 12,
   "metadata": {},
   "outputs": [
    {
     "name": "stdout",
     "output_type": "stream",
     "text": [
      "maxtrainlen %d inf\n",
      "maxtrainlen %d inf\n",
      "maxtrainlen %d inf\n",
      "maxtrainlen %d inf\n",
      "maxtrainlen %d inf\n",
      "maxtrainlen %d inf\n"
     ]
    },
    {
     "name": "stderr",
     "output_type": "stream",
     "text": [
      "/home/srajan/anaconda3/envs/ML1/lib/python3.6/site-packages/sklearn/mixture/base.py:237: ConvergenceWarning: Initialization 1 did not converge. Try different init parameters, or increase max_iter, tol or check for degenerate data.\n",
      "  % (init + 1), ConvergenceWarning)\n"
     ]
    }
   ],
   "source": [
    "algos =[\"KMEANS\", \"FCM\", \"SOM\", \"GMM\"] # TODO add spectral\n",
    "data = {}\n",
    "for al in algos:\n",
    "    mean, std = MyClustEvalRGB7(algo=al, imType=\"rgb\", numClusts = 5)\n",
    "    temp = al + ' mean'\n",
    "    data[temp] = [mean]\n",
    "    temp = al + 'std'\n",
    "    data[temp] = [std]"
   ]
  },
  {
   "cell_type": "code",
   "execution_count": 13,
   "metadata": {},
   "outputs": [],
   "source": [
    "df = pd.DataFrame(data=data)"
   ]
  },
  {
   "cell_type": "code",
   "execution_count": 14,
   "metadata": {},
   "outputs": [
    {
     "data": {
      "text/html": [
       "<div>\n",
       "<style scoped>\n",
       "    .dataframe tbody tr th:only-of-type {\n",
       "        vertical-align: middle;\n",
       "    }\n",
       "\n",
       "    .dataframe tbody tr th {\n",
       "        vertical-align: top;\n",
       "    }\n",
       "\n",
       "    .dataframe thead th {\n",
       "        text-align: right;\n",
       "    }\n",
       "</style>\n",
       "<table border=\"1\" class=\"dataframe\">\n",
       "  <thead>\n",
       "    <tr style=\"text-align: right;\">\n",
       "      <th></th>\n",
       "      <th>FCM mean</th>\n",
       "      <th>FCMstd</th>\n",
       "      <th>GMM mean</th>\n",
       "      <th>GMMstd</th>\n",
       "      <th>KMEANS mean</th>\n",
       "      <th>KMEANSstd</th>\n",
       "      <th>SOM mean</th>\n",
       "      <th>SOMstd</th>\n",
       "    </tr>\n",
       "  </thead>\n",
       "  <tbody>\n",
       "    <tr>\n",
       "      <th>0</th>\n",
       "      <td>0.797676</td>\n",
       "      <td>0.023558</td>\n",
       "      <td>0.69407</td>\n",
       "      <td>0.070131</td>\n",
       "      <td>0.792576</td>\n",
       "      <td>0.029929</td>\n",
       "      <td>0.794086</td>\n",
       "      <td>0.037171</td>\n",
       "    </tr>\n",
       "  </tbody>\n",
       "</table>\n",
       "</div>"
      ],
      "text/plain": [
       "   FCM mean    FCMstd  GMM mean    GMMstd  KMEANS mean  KMEANSstd  SOM mean  \\\n",
       "0  0.797676  0.023558   0.69407  0.070131     0.792576   0.029929  0.794086   \n",
       "\n",
       "     SOMstd  \n",
       "0  0.037171  "
      ]
     },
     "execution_count": 14,
     "metadata": {},
     "output_type": "execute_result"
    }
   ],
   "source": [
    "df"
   ]
  },
  {
   "cell_type": "code",
   "execution_count": null,
   "metadata": {},
   "outputs": [],
   "source": []
  }
 ],
 "metadata": {
  "kernelspec": {
   "display_name": "Python (ML1)",
   "language": "python",
   "name": "ml1"
  },
  "language_info": {
   "codemirror_mode": {
    "name": "ipython",
    "version": 3
   },
   "file_extension": ".py",
   "mimetype": "text/x-python",
   "name": "python",
   "nbconvert_exporter": "python",
   "pygments_lexer": "ipython3",
   "version": "3.6.5"
  }
 },
 "nbformat": 4,
 "nbformat_minor": 2
}
