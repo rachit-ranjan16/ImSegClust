{
 "cells": [
  {
   "cell_type": "code",
   "execution_count": 1,
   "metadata": {},
   "outputs": [],
   "source": [
    "import numpy as np"
   ]
  },
  {
   "cell_type": "code",
   "execution_count": 2,
   "metadata": {},
   "outputs": [],
   "source": [
    "def PartialError(g, s):\n",
    "    \"\"\"Patial Error function.\"\"\"\n",
    "    clust_g = np.unique(g)\n",
    "    clust_s = np.unique(s)\n",
    "    err = 0.0\n",
    "\n",
    "    for j in clust_g:\n",
    "        # initializing inner summation is the formaula.\n",
    "        inner = 0.0\n",
    "        \n",
    "        Aj = (g ==j)\n",
    "        Wj = 0.0\n",
    "        Wj += np.sum(Aj,dtype=np.float_)/(g.size)\n",
    "        \n",
    "        # calculating denominator for Wji\n",
    "        Wji_den = np.sum([(np.sum(np.logical_and(Aj, s == x))!=0) * np.sum(s == x) for x in clust_s],\n",
    "                         dtype=np.float_)\n",
    "        \n",
    "        # calculating inner summation\n",
    "        for i in clust_s:\n",
    "            # Wji\n",
    "            Bi = ( s == i )\n",
    "            Wji = ((np.sum(np.logical_and(Aj,Bi),dtype=np.float_)!=0) * np.sum(Bi)) / Wji_den\n",
    "\n",
    "            inner += (np.sum(np.logical_and(Aj,Bi),dtype=np.float_) / \n",
    "                      np.sum(np.logical_or(Aj,Bi),dtype=np.float_))*Wji\n",
    "\n",
    "            \n",
    "        # calculating outer summation\n",
    "        err += (1-inner)*Wj\n",
    "\n",
    "    return err"
   ]
  },
  {
   "cell_type": "code",
   "execution_count": 3,
   "metadata": {},
   "outputs": [],
   "source": [
    "def MyMartinIndex7(gtImage, sImage):\n",
    "    \"\"\"Object-level Consistency Error Martin Index.\"\"\"\n",
    "    clust_gtImage = np.unique(gtImage)\n",
    "    clust_sImage = np.unique(sImage)\n",
    "    score = np.min([PartialError(gtImage, sImage), PartialError(sImage, gtImage)])\n",
    "    return score "
   ]
  },
  {
   "cell_type": "code",
   "execution_count": 4,
   "metadata": {},
   "outputs": [
    {
     "name": "stdout",
     "output_type": "stream",
     "text": [
      "All Tests ran sucessfully.\n"
     ]
    }
   ],
   "source": [
    "\n",
    "gt = np.array([[1, 1, 1, 1],\n",
    "               [1, 1, 1, 1],\n",
    "               [1, 1, 1, 1],\n",
    "               [1, 1, 1, 1]])\n",
    "\n",
    "im1=np.array([ [1, 1, 1, 1],\n",
    "               [1, 1, 1, 1],\n",
    "               [1, 1, 1, 1],\n",
    "               [1, 1, 1, 1]])\n",
    "\n",
    "im2=np.array([ [1, 1, 2, 2],\n",
    "               [1, 1, 2, 2],\n",
    "               [1, 1, 2, 2],\n",
    "               [1, 1, 2, 2]])\n",
    "\n",
    "im3=np.array([ [1, 1, 2, 2],\n",
    "               [1, 1, 2, 2],\n",
    "               [1, 1, 3, 3],\n",
    "               [1, 1, 3, 3]])\n",
    "im4=np.zeros((4,4), dtype=np.int16)\n",
    "\n",
    "# Test 1: Perfect match\n",
    "assert MyMartinIndex7(gt,im1)==0\n",
    "\n",
    "# Test 2: Terrible match\n",
    "assert MyMartinIndex7(gt,im4)==0\n",
    "\n",
    "# Test 3: Example 1\n",
    "assert MyMartinIndex7(gt,im2)==0.5\n",
    "\n",
    "# Test 4: Example 2\n",
    "assert MyMartinIndex7(gt,im3)==0.625\n",
    "\n",
    "print \"All Tests ran sucessfully.\""
   ]
  }
 ],
 "metadata": {
  "kernelspec": {
   "display_name": "Python (ML)",
   "language": "python",
   "name": "ml"
  },
  "language_info": {
   "codemirror_mode": {
    "name": "ipython",
    "version": 2
   },
   "file_extension": ".py",
   "mimetype": "text/x-python",
   "name": "python",
   "nbconvert_exporter": "python",
   "pygments_lexer": "ipython2",
   "version": "2.7.14"
  }
 },
 "nbformat": 4,
 "nbformat_minor": 2
}
