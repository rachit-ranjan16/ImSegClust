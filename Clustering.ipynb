{
 "cells": [
  {
   "cell_type": "code",
   "execution_count": 1,
   "metadata": {},
   "outputs": [
    {
     "name": "stderr",
     "output_type": "stream",
     "text": [
      "backend module://ipykernel.pylab.backend_inline version unknown\n"
     ]
    }
   ],
   "source": [
    "import scipy.io as scio \n",
    "import matplotlib.cm as cm\n",
    "import matplotlib.pyplot as plt\n",
    "import matplotlib.cbook as cbook\n",
    "from sklearn.cluster import KMeans\n",
    "from sklearn.decomposition import PCA \n",
    "import spectral as sp\n",
    "import numpy as np\n",
    "import glob\n",
    "import os \n",
    "from sklearn.cluster import KMeans\n",
    "import skimage as ski \n",
    "import skfuzzy as skf\n",
    "from configparser import ConfigParser\n",
    "from scipy import ndimage \n",
    "import matplotlib.image as mpimg\n",
    "import sompy"
   ]
  },
  {
   "cell_type": "code",
   "execution_count": 2,
   "metadata": {},
   "outputs": [],
   "source": [
    "pavia = {'rgb': scio.loadmat('PaviaRGB.mat')['PaviaRGB'],\n",
    "         'color_map' : scio.loadmat('PaviaColorMap.mat')['PaviaColorMap'],\n",
    "         'ground_truth' : scio.loadmat('PaviaGrTruth.mat')['PaviaGrTruth'],\n",
    "         'ground_truth_mask' : scio.loadmat('PaviaGrTruthMask.mat')['PaviaGrTruthMask'],\n",
    "         'hyperimage' : scio.loadmat('PaviaHyperIm.mat')['PaviaHyperIm'],\n",
    "         'wavelengths' : scio.loadmat('PaviaWavelengths.mat')['PaviaWavelengths'],\n",
    "        }\n",
    "sanbar = {'rgb': scio.loadmat('SanBarRGB.mat')['SanBarRGB'],\n",
    "          'wavelengths': scio.loadmat('SanBarWavelengths.mat')['WaveLengths'],\n",
    "          'hyperimage': scio.loadmat('SanBarHyperIm.mat')['SanBarIm88x400'],\n",
    "         }\n",
    "\n",
    "config = ConfigParser()\n",
    "config.read('appConfig.ini')\n",
    "\n",
    "def k_means_clustering(inp=pavia['rgb'], n_clusters=2):\n",
    "    if inp is None:\n",
    "        print(\"Empty Input. Exiting\")\n",
    "    k_means = KMeans(n_clusters=n_clusters)\n",
    "    shape = inp.shape\n",
    "    k_means.fit(inp.flatten().reshape(shape[0]*shape[1],shape[2]))\n",
    "    inp_clustered = k_means.labels_.astype(float)\n",
    "    return inp_clustered.reshape(shape[0]*shape[1],1).reshape(shape[0],shape[1])\n",
    "\n",
    "def fuzzy_c_means(n_clusters=2,fuzz_degree=2,error=0.005,max_iter=1000,inp_image=pavia['rgb']):\n",
    "    shape = inp_image.shape\n",
    "    centers, u, u0, d, jm, n_iters, fpc = skf.cluster.cmeans(\n",
    "        inp.flatten().reshape(shape[0]*shape[1],shape[2]).T,\n",
    "        c=n_clusters,\n",
    "        m=fuzz_degree,\n",
    "        error=error,\n",
    "        maxiter=max_iter,\n",
    "        init=None,\n",
    "        seed=config.getint(FCM, SEED)\n",
    "    )\n",
    "    clust = np.argmax(u, axis=0).astype(float)\n",
    "    return clust.reshape(shape[0]*shape[1],1).reshape(shape[0],shape[1])\n",
    "\n",
    "def SOM(n_clusters=5, n_job =5, map_dim=20, inp_image=pavia['rgb']):\n",
    "    \n",
    "    # Calculate the map\n",
    "    mapsize = [map_dim,map_dim]\n",
    "    shape = inp_image.shape\n",
    "    data = inp_image.flatten().reshape(shape[0]*shape[1],shape[2])\n",
    "    som = sompy.SOMFactory.build(data, mapsize)  \n",
    "    som.train(n_job=n_job, verbose=None)\n",
    "    \n",
    "    #calculating clusters\n",
    "    cl = som.cluster(n_clusters=n_clusters)\n",
    "    \n",
    "    # calculating which pixel is associated which cluster\n",
    "    project_data = som.project_data(data)\n",
    "    clust = np.zeros((shape[0], shape[1]))\n",
    "    for i, q in enumerate(project_data):\n",
    "        temp = cl[q]\n",
    "        clust[np.unravel_index(i, dims=((shape[0], shape[1])))] = temp\n",
    "\n",
    "    return clust\n",
    "\n",
    "def postprocess(inp_image):\n",
    "    # Median filter as a post processing step to remove small clusters.\n",
    "    window_size = int(config['MEDIAN_FILTER']['WINDOW_SIZE'])\n",
    "    return ndimage.median_filter(inp_image, size=window_size)"
   ]
  },
  {
   "cell_type": "code",
   "execution_count": 3,
   "metadata": {},
   "outputs": [],
   "source": [
    "def MyClust(image=pavia['rgb'],params={'Algorithm': 'KMeans',\n",
    "                                       'ImType': 'RGB',\n",
    "                                       'NumClusts': 3}):\n",
    "    # Preprocessing Input Image\n",
    "    #inp_image = preprocess(image)\n",
    "    \n",
    "    shape = image.shape\n",
    "    CCIm = None\n",
    "    out_labels = None \n",
    "    \n",
    "    if params['ImType'].upper() == 'HYPER':\n",
    "        # Dimensionality Reduction for Hyperimage \n",
    "        n_components = int(config['HYPER']['N_COMPONENTS'])\n",
    "        hyper = image.flatten().reshape(shape[0]*shape[1],shape[2])\n",
    "        pca = PCA(n_components=n_components, svd_solver='auto').fit(hyper)\n",
    "        image = pca.transform(hyper).reshape(shape[0],shape[1],n_components)\n",
    "    \n",
    "    # Resetting Shape in case input was hyper image and underwent dimensionality reduction \n",
    "    shape = image.shape\n",
    "    \n",
    "    n_clusters = params['NumClusts']\n",
    "    if params['NumClusts'] > 0.25 * shape[0] * shape[1]:\n",
    "        print('NumClusts higher than 25% of Number of Pixels\\nExiting...')\n",
    "    elif params['NumClusts'] == 1:\n",
    "        n_clusters = int(0.05 * shape[0] * shape[1])\n",
    "    \n",
    "    \n",
    "    if params['Algorithm'].upper() == 'KMEANS':\n",
    "        out_labels = k_means_clustering(inp=image, n_clusters=n_clusters)   \n",
    "    \n",
    "    elif params['Algorithm'].upper() == 'FCM':\n",
    "        out_labels = fuzzy_c_means(inp_image=image,\n",
    "                                   n_clusters=int(config['FCM']['N_CLUSTERS']),\n",
    "                                   fuzz_degree=int(config['FCM']['FUZZ_DEGREE']),\n",
    "                                   error=float(config['FCM']['ERROR']),\n",
    "                                   max_iter=int(config['FCM']['MAX_ITER']))\n",
    "    \n",
    "    elif params['Algorithm'].upper() == 'SOM':    \n",
    "        out_labels = SOM(n_clusters=n_clusters,n_job =int(config['SOM']['N_JOB']),\n",
    "                         map_dim=int(config['SOM']['MAP_DIM']),\n",
    "                         inp_image=image)\n",
    "\n",
    "    elif params['Algorithm'].upper() == 'SPECTRAL':\n",
    "        # TODO Add Implementation \n",
    "        pass \n",
    "    else:\n",
    "        print('Invalid Algorithm Entered')\n",
    "        return None, None \n",
    "    \n",
    "    if params['ImType'].upper() == 'RGB':\n",
    "        out_labels = postprocess(out_labels)\n",
    "        CCIm, nr_objects = ndimage.label(out_labels)\n",
    "    #TODO Figure out how to attach labels to input image \n",
    "    return out_labels, CCIm, nr_objects\n",
    "    "
   ]
  },
  {
   "cell_type": "code",
   "execution_count": 4,
   "metadata": {},
   "outputs": [
    {
     "name": "stdout",
     "output_type": "stream",
     "text": [
      "maxtrainlen %d inf\n",
      "maxtrainlen %d inf\n"
     ]
    }
   ],
   "source": [
    "out_labels, CCIm, nr_objects = MyClust(image=pavia['rgb'], params={'Algorithm': 'SOM',\n",
    "                                                      'ImType': 'rgb',\n",
    "                                                      'NumClusts': 9})"
   ]
  },
  {
   "cell_type": "code",
   "execution_count": 5,
   "metadata": {},
   "outputs": [
    {
     "data": {
      "image/png": "[encoded data removed]",
      "text/plain": [
       "<Figure size 432x288 with 2 Axes>"
      ]
     },
     "metadata": {},
     "output_type": "display_data"
    }
   ],
   "source": [
    "def label_show(im):\n",
    "    cmap = cm.get_cmap('tab20c', 9)\n",
    "    plt.imshow(im, cmap=cmap, vmin=0, vmax=9)\n",
    "    plt.colorbar(ticks=np.linspace(0,9,10))\n",
    "    plt.show()\n",
    "    \n",
    "label_show(out_labels)"
   ]
  }
 ],
 "metadata": {
  "kernelspec": {
   "display_name": "Python (ML1)",
   "language": "python",
   "name": "ml1"
  },
  "language_info": {
   "codemirror_mode": {
    "name": "ipython",
    "version": 3
   },
   "file_extension": ".py",
   "mimetype": "text/x-python",
   "name": "python",
   "nbconvert_exporter": "python",
   "pygments_lexer": "ipython3",
   "version": "3.6.5"
  }
 },
 "nbformat": 4,
 "nbformat_minor": 2
}
