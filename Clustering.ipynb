{
 "cells": [
  {
   "cell_type": "code",
   "execution_count": 52,
   "metadata": {},
   "outputs": [],
   "source": [
    "import scipy.io as scio \n",
    "import matplotlib.cm as cm\n",
    "import matplotlib.pyplot as plt\n",
    "import matplotlib.cbook as cbook\n",
    "from sklearn.cluster import KMeans\n",
    "from sklearn.decomposition import PCA \n",
    "import spectral as sp\n",
    "import numpy as np\n",
    "import glob\n",
    "import os \n",
    "from sklearn.cluster import KMeans\n",
    "import skimage as ski \n",
    "import skfuzzy as skf\n",
    "from configparser import ConfigParser\n",
    "from scipy import ndimage "
   ]
  },
  {
   "cell_type": "code",
   "execution_count": 53,
   "metadata": {},
   "outputs": [],
   "source": [
    "pavia = {'rgb': scio.loadmat('PaviaRGB.mat')['PaviaRGB'],\n",
    "         'color_map' : scio.loadmat('PaviaColorMap.mat')['PaviaColorMap'],\n",
    "         'ground_truth' : scio.loadmat('PaviaGrTruth.mat')['PaviaGrTruth'],\n",
    "         'ground_truth_mask' : scio.loadmat('PaviaGrTruthMask.mat')['PaviaGrTruthMask'],\n",
    "         'hyperimage' : scio.loadmat('PaviaHyperIm.mat')['PaviaHyperIm'],\n",
    "         'wavelengths' : scio.loadmat('PaviaWavelengths.mat')['PaviaWavelengths'],\n",
    "        }\n",
    "sanbar = {'rgb': scio.loadmat('SanBarRGB.mat')['SanBarRGB'],\n",
    "          'wavelengths': scio.loadmat('SanBarWavelengths.mat')['WaveLengths'],\n",
    "          'hyperimage': scio.loadmat('SanBarHyperIm.mat')['SanBarIm88x400'],\n",
    "         }\n",
    "\n",
    "config = ConfigParser()\n",
    "config.read('appConfig.ini')\n",
    "FCM = 'FCM'\n",
    "KMEANS = 'KMeans'\n",
    "HYPER = 'Hyper'\n",
    "N_CLUSTERS = 'n_clusters'\n",
    "N_COMPONENTS = 'n_components'\n",
    "FUZZ_DEGREE = 'fuzz_degree'\n",
    "ERROR = 'error'\n",
    "MAX_ITER = 'max_iter'\n",
    "CONNECTED_COMPONENTS = 'ConnectedComponents'\n",
    "SEED = 'seed'\n",
    "BLUR_RADIUS = 'blur_radius'\n",
    "THRESHOLD = 'threshold'\n",
    "\n",
    "\n",
    "\n",
    "def k_means_clustering(inp=pavia['rgb'], n_clusters=2):\n",
    "    if inp is None:\n",
    "        print(\"Empty Input. Exiting\")\n",
    "    k_means = KMeans(n_clusters=n_clusters)\n",
    "    shape = inp.shape\n",
    "    k_means.fit(inp.flatten().reshape(shape[0]*shape[1],shape[2]))\n",
    "    inp_clustered = k_means.labels_.astype(float)\n",
    "    return inp_clustered.reshape(shape[0]*shape[1],1).reshape(shape[0],shape[1])\n",
    "\n",
    "def fuzzy_c_means(n_clusters=2,fuzz_degree=2,error=0.005,max_iter=1000,inp_image=pavia['rgb']):\n",
    "    shape = inp_image.shape\n",
    "    centers, u, u0, d, jm, n_iters, fpc = skf.cluster.cmeans(\n",
    "        inp.flatten().reshape(shape[0]*shape[1],shape[2]).T,\n",
    "        c=n_clusters,\n",
    "        m=fuzz_degree,\n",
    "        error=error,\n",
    "        maxiter=max_iter,\n",
    "        init=None,\n",
    "        seed=config.getint(FCM, SEED)\n",
    "    )\n",
    "    clust = np.argmax(u, axis=0).astype(float)\n",
    "    return clust.reshape(shape[0]*shape[1],1).reshape(shape[0],shape[1])\n",
    "\n",
    "def preprocess(inp_image=pavia['rgb']):\n",
    "    # Adds Gaussian Blur to input image\n",
    "    sigma = config.getfloat(CONNECTED_COMPONENTS, BLUR_RADIUS)\n",
    "    return ndimage.gaussian_filter(inp_image, sigma=(sigma,sigma,0))"
   ]
  },
  {
   "cell_type": "code",
   "execution_count": 56,
   "metadata": {},
   "outputs": [],
   "source": [
    "def MyClust(image=pavia['rgb'],params={'Algorithm': 'KMeans',\n",
    "                                       'ImType': 'RGB',\n",
    "                                       'NumClusts': 3}):\n",
    "    # Preprocessing Input Image\n",
    "    inp_image = preprocess(image)\n",
    "    \n",
    "    shape = inp_image.shape\n",
    "    CCIm = None\n",
    "    out_labels = None \n",
    "    \n",
    "    if params['ImType'].upper() == 'HYPER':\n",
    "        # Dimensionality Reduction for Hyperimage \n",
    "        n_components = config.getint(HYPER, N_COMPONENTS)\n",
    "        hyper = flatten().reshape(shape[0]*shape[1],shape[2])\n",
    "        pca = PCA(n_components=n_components, svd_solver='auto').fit(hyper)\n",
    "        inp_image = pca.transform(inp_image).reshape(shape[0],shape[1],n_components)\n",
    "    \n",
    "    # Resetting Shape in case input was hyper image and underwent dimensionality reduction \n",
    "    shape = inp_image.shape\n",
    "    \n",
    "    n_clusters = params['NumClusts']\n",
    "    if params['NumClusts'] > 0.25 * shape[0] * shape[1]:\n",
    "        print('NumClusts higher than 25% of Number of Pixels\\nExiting...')\n",
    "    elif params['NumClusts'] == 1:\n",
    "        n_clusters = int(0.05 * shape[0] * shape[1])\n",
    "    \n",
    "    \n",
    "    if params['Algorithm'].upper() == 'KMEANS':\n",
    "        out_labels = k_means_clustering(inp=inp_image, n_clusters=n_clusters)   \n",
    "    elif params['Algorithm'].upper() == 'FCM':\n",
    "        out_labels = fuzzy_c_means(inp_image=inp_image,\n",
    "                                   n_clusters=config.getint(FCM, N_CLUSTERS),\n",
    "                                   fuzz_degree=config.getint(FCM, FUZZ_DEGREE),\n",
    "                                   error=config.getfloat(FCM, ERROR),\n",
    "                                   max_iter=config.getint(FCM, MAX_ITER))\n",
    "    elif params['Algorithm'].upper() == 'SOM':    \n",
    "        # TODO Add Implementation \n",
    "        pass \n",
    "    elif params['Algorithm'].upper() == 'SPECTRAL':\n",
    "        # TODO Add Implementation \n",
    "        pass \n",
    "    else:\n",
    "        print('Invalid Algorithm Entered')\n",
    "        return None, None \n",
    "    \n",
    "    if params['ImType'].upper() == 'RGB':\n",
    "        CCIm, nr_objects = ndimage.label(im_gf > config.getfloat(CONNECTED_COMPONENTS, THRESHOLD)) \n",
    "    #TODO Figure out how to attach labels to input image \n",
    "    return out_labels, CCIm\n",
    "    "
   ]
  },
  {
   "cell_type": "code",
   "execution_count": 57,
   "metadata": {},
   "outputs": [
    {
     "ename": "ValueError",
     "evalue": "Found array with dim 3. Estimator expected <= 2.",
     "output_type": "error",
     "traceback": [
      "\u001b[1;31m---------------------------------------------------------------------------\u001b[0m",
      "\u001b[1;31mValueError\u001b[0m                                Traceback (most recent call last)",
      "\u001b[1;32m<ipython-input-57-cfd4070da9bb>\u001b[0m in \u001b[0;36m<module>\u001b[1;34m()\u001b[0m\n\u001b[0;32m      1\u001b[0m out_labels, CCIm = MyClust(image=pavia['hyperimage'], params={'Algorithm': 'KMeans',\n\u001b[0;32m      2\u001b[0m                                                       \u001b[1;34m'ImType'\u001b[0m\u001b[1;33m:\u001b[0m \u001b[1;34m'Hyper'\u001b[0m\u001b[1;33m,\u001b[0m\u001b[1;33m\u001b[0m\u001b[0m\n\u001b[1;32m----> 3\u001b[1;33m                                                       'NumClusts': 3})\n\u001b[0m",
      "\u001b[1;32m<ipython-input-56-d99bbc0abf2b>\u001b[0m in \u001b[0;36mMyClust\u001b[1;34m(image, params)\u001b[0m\n\u001b[0;32m     12\u001b[0m         \u001b[1;31m# Dimensionality Reduction for Hyperimage\u001b[0m\u001b[1;33m\u001b[0m\u001b[1;33m\u001b[0m\u001b[0m\n\u001b[0;32m     13\u001b[0m         \u001b[0mn_components\u001b[0m \u001b[1;33m=\u001b[0m \u001b[0mconfig\u001b[0m\u001b[1;33m.\u001b[0m\u001b[0mgetint\u001b[0m\u001b[1;33m(\u001b[0m\u001b[0mHYPER\u001b[0m\u001b[1;33m,\u001b[0m \u001b[0mN_COMPONENTS\u001b[0m\u001b[1;33m)\u001b[0m\u001b[1;33m\u001b[0m\u001b[0m\n\u001b[1;32m---> 14\u001b[1;33m         \u001b[0mpca\u001b[0m \u001b[1;33m=\u001b[0m \u001b[0mPCA\u001b[0m\u001b[1;33m(\u001b[0m\u001b[0mn_components\u001b[0m\u001b[1;33m=\u001b[0m\u001b[0mn_components\u001b[0m\u001b[1;33m,\u001b[0m \u001b[0msvd_solver\u001b[0m\u001b[1;33m=\u001b[0m\u001b[1;34m'auto'\u001b[0m\u001b[1;33m)\u001b[0m\u001b[1;33m.\u001b[0m\u001b[0mfit\u001b[0m\u001b[1;33m(\u001b[0m\u001b[0minp_image\u001b[0m\u001b[1;33m)\u001b[0m\u001b[1;33m\u001b[0m\u001b[0m\n\u001b[0m\u001b[0;32m     15\u001b[0m         \u001b[0minp_image\u001b[0m \u001b[1;33m=\u001b[0m \u001b[0mpca\u001b[0m\u001b[1;33m.\u001b[0m\u001b[0mtransform\u001b[0m\u001b[1;33m(\u001b[0m\u001b[0minp_image\u001b[0m\u001b[1;33m)\u001b[0m\u001b[1;33m.\u001b[0m\u001b[0mreshape\u001b[0m\u001b[1;33m(\u001b[0m\u001b[0mshape\u001b[0m\u001b[1;33m[\u001b[0m\u001b[1;36m0\u001b[0m\u001b[1;33m]\u001b[0m\u001b[1;33m,\u001b[0m\u001b[0mshape\u001b[0m\u001b[1;33m[\u001b[0m\u001b[1;36m1\u001b[0m\u001b[1;33m]\u001b[0m\u001b[1;33m,\u001b[0m\u001b[0mn_components\u001b[0m\u001b[1;33m)\u001b[0m\u001b[1;33m\u001b[0m\u001b[0m\n\u001b[0;32m     16\u001b[0m \u001b[1;33m\u001b[0m\u001b[0m\n",
      "\u001b[1;32md:\\anaconda3\\envs\\ml\\lib\\site-packages\\sklearn\\decomposition\\pca.py\u001b[0m in \u001b[0;36mfit\u001b[1;34m(self, X, y)\u001b[0m\n\u001b[0;32m    327\u001b[0m             \u001b[0mReturns\u001b[0m \u001b[0mthe\u001b[0m \u001b[0minstance\u001b[0m \u001b[0mitself\u001b[0m\u001b[1;33m.\u001b[0m\u001b[1;33m\u001b[0m\u001b[0m\n\u001b[0;32m    328\u001b[0m         \"\"\"\n\u001b[1;32m--> 329\u001b[1;33m         \u001b[0mself\u001b[0m\u001b[1;33m.\u001b[0m\u001b[0m_fit\u001b[0m\u001b[1;33m(\u001b[0m\u001b[0mX\u001b[0m\u001b[1;33m)\u001b[0m\u001b[1;33m\u001b[0m\u001b[0m\n\u001b[0m\u001b[0;32m    330\u001b[0m         \u001b[1;32mreturn\u001b[0m \u001b[0mself\u001b[0m\u001b[1;33m\u001b[0m\u001b[0m\n\u001b[0;32m    331\u001b[0m \u001b[1;33m\u001b[0m\u001b[0m\n",
      "\u001b[1;32md:\\anaconda3\\envs\\ml\\lib\\site-packages\\sklearn\\decomposition\\pca.py\u001b[0m in \u001b[0;36m_fit\u001b[1;34m(self, X)\u001b[0m\n\u001b[0;32m    368\u001b[0m \u001b[1;33m\u001b[0m\u001b[0m\n\u001b[0;32m    369\u001b[0m         X = check_array(X, dtype=[np.float64, np.float32], ensure_2d=True,\n\u001b[1;32m--> 370\u001b[1;33m                         copy=self.copy)\n\u001b[0m\u001b[0;32m    371\u001b[0m \u001b[1;33m\u001b[0m\u001b[0m\n\u001b[0;32m    372\u001b[0m         \u001b[1;31m# Handle n_components==None\u001b[0m\u001b[1;33m\u001b[0m\u001b[1;33m\u001b[0m\u001b[0m\n",
      "\u001b[1;32md:\\anaconda3\\envs\\ml\\lib\\site-packages\\sklearn\\utils\\validation.py\u001b[0m in \u001b[0;36mcheck_array\u001b[1;34m(array, accept_sparse, dtype, order, copy, force_all_finite, ensure_2d, allow_nd, ensure_min_samples, ensure_min_features, warn_on_dtype, estimator)\u001b[0m\n\u001b[0;32m    449\u001b[0m         \u001b[1;32mif\u001b[0m \u001b[1;32mnot\u001b[0m \u001b[0mallow_nd\u001b[0m \u001b[1;32mand\u001b[0m \u001b[0marray\u001b[0m\u001b[1;33m.\u001b[0m\u001b[0mndim\u001b[0m \u001b[1;33m>=\u001b[0m \u001b[1;36m3\u001b[0m\u001b[1;33m:\u001b[0m\u001b[1;33m\u001b[0m\u001b[0m\n\u001b[0;32m    450\u001b[0m             raise ValueError(\"Found array with dim %d. %s expected <= 2.\"\n\u001b[1;32m--> 451\u001b[1;33m                              % (array.ndim, estimator_name))\n\u001b[0m\u001b[0;32m    452\u001b[0m         \u001b[1;32mif\u001b[0m \u001b[0mforce_all_finite\u001b[0m\u001b[1;33m:\u001b[0m\u001b[1;33m\u001b[0m\u001b[0m\n\u001b[0;32m    453\u001b[0m             \u001b[0m_assert_all_finite\u001b[0m\u001b[1;33m(\u001b[0m\u001b[0marray\u001b[0m\u001b[1;33m)\u001b[0m\u001b[1;33m\u001b[0m\u001b[0m\n",
      "\u001b[1;31mValueError\u001b[0m: Found array with dim 3. Estimator expected <= 2."
     ]
    }
   ],
   "source": [
    "out_labels, CCIm = MyClust(image=pavia['hyperimage'], params={'Algorithm': 'KMeans',\n",
    "                                                      'ImType': 'Hyper',\n",
    "                                                      'NumClusts': 3})"
   ]
  },
  {
   "cell_type": "code",
   "execution_count": null,
   "metadata": {},
   "outputs": [],
   "source": [
    "def label_show(im):\n",
    "    cmap = cm.get_cmap('tab20c', 9)    # 11 discrete colors\n",
    "    plt.figure(2020)\n",
    "    plt.subplot(1,2,1)\n",
    "    plt.imshow(im, cmap=cmap, vmin=0, vmax=9)\n",
    "    plt.colorbar(ticks=np.linspace(0,9,10))\n",
    "    plt.show()\n",
    "    \n",
    "label_show(out_labels)"
   ]
  },
  {
   "cell_type": "code",
   "execution_count": null,
   "metadata": {},
   "outputs": [],
   "source": [
    "# label_show(CCIm.astype(float))\n",
    "CCIm"
   ]
  },
  {
   "cell_type": "code",
   "execution_count": null,
   "metadata": {},
   "outputs": [],
   "source": []
  },
  {
   "cell_type": "code",
   "execution_count": null,
   "metadata": {},
   "outputs": [],
   "source": []
  }
 ],
 "metadata": {
  "kernelspec": {
   "display_name": "Python 3",
   "language": "python",
   "name": "python3"
  },
  "language_info": {
   "codemirror_mode": {
    "name": "ipython",
    "version": 3
   },
   "file_extension": ".py",
   "mimetype": "text/x-python",
   "name": "python",
   "nbconvert_exporter": "python",
   "pygments_lexer": "ipython3",
   "version": "3.6.3"
  }
 },
 "nbformat": 4,
 "nbformat_minor": 2
}
