{
 "cells": [
  {
   "cell_type": "code",
   "execution_count": 1,
   "metadata": {},
   "outputs": [],
   "source": [
    "import scipy.io as scio \n",
    "import matplotlib.cm as cm\n",
    "import matplotlib.pyplot as plt\n",
    "import matplotlib.cbook as cbook\n",
    "from sklearn.cluster import KMeans\n",
    "import spectral as sp\n",
    "import numpy as np\n",
    "import glob\n",
    "import os \n",
    "from sklearn.cluster import KMeans\n",
    "import skimage as ski \n",
    "import skfuzzy as skf"
   ]
  },
  {
   "cell_type": "code",
   "execution_count": 3,
   "metadata": {},
   "outputs": [],
   "source": [
    "pavia = {'rgb': scio.loadmat('PaviaRGB.mat')['PaviaRGB'],\n",
    "         'color_map' : scio.loadmat('PaviaColorMap.mat')['PaviaColorMap'],\n",
    "         'ground_truth' : scio.loadmat('PaviaGrTruth.mat')['PaviaGrTruth'],\n",
    "         'ground_truth_mask' : scio.loadmat('PaviaGrTruthMask.mat')['PaviaGrTruthMask'],\n",
    "         'hyperimage' : scio.loadmat('PaviaHyperIm.mat')['PaviaHyperIm'],\n",
    "         'wavelengths' : scio.loadmat('PaviaWavelengths.mat')['PaviaWavelengths'],\n",
    "        }\n",
    "sanbar = {'rgb': scio.loadmat('SanBarRGB.mat')['SanBarRGB'],\n",
    "          'wavelengths': scio.loadmat('SanBarWavelengths.mat')['WaveLengths'],\n",
    "          'hyperimage': scio.loadmat('SanBarHyperIm.mat')['SanBarIm88x400'],\n",
    "         }\n",
    "def k_means_clustering(inp=pavia['rgb'], n_clusters=2):\n",
    "    if inp is None:\n",
    "        print(\"Empty Input. Exiting\")\n",
    "    k_means = KMeans(n_clusters=n_clusters)\n",
    "    shape = inp.shape\n",
    "    k_means.fit(inp.flatten().reshape(shape[0]*shape[1],shape[2]))\n",
    "    inp_clustered = k_means.labels_.astype(float)\n",
    "    return inp_clustered.reshape(shape[0]*shape[1],1).reshape(shape[0],shape[1])\n",
    "\n",
    "def fuzzy_c_means(n_clusters=2,fuzz_degree=2,error=0.005,max_iter=1000,inp_image=pavia['rgb']):\n",
    "    shape = inp_image.shape\n",
    "    centers, u, u0, d, jm, n_iters, fpc = skf.cluster.cmeans(\n",
    "        inp.flatten().reshape(shape[0]*shape[1],shape[2]).T,\n",
    "        c=n_clusters,\n",
    "        m=fuzz_degree,\n",
    "        error=error,\n",
    "        maxiter=max_iter,\n",
    "        init=None,\n",
    "        seed=42\n",
    "    )\n",
    "    clust = np.argmax(u, axis=0).astype(float)\n",
    "    return clust.reshape(shape[0]*shape[1],1).reshape(shape[0],shape[1])"
   ]
  },
  {
   "cell_type": "code",
   "execution_count": null,
   "metadata": {},
   "outputs": [],
   "source": [
    "def MyClust(image=pavia['rgb'], , params={'Algorithm': 'KMeans',\n",
    "                                         'ImType': 'RGB',\n",
    "                                         'NumClusts': 3}):\n",
    "    inp_image = image\n",
    "    shape = inp_image.shape\n",
    "    if params['Imtype'].upper() == 'HYPER':\n",
    "        # TODO Add this to appconfig\n",
    "        n_components = 30\n",
    "        pca = PCA(n_components=n_components, svd_solver='auto').fit(hyper)\n",
    "        inp_image = pca.transform(in_image).reshape(shape[0],shape[1],n_components)\n",
    "    # TODO Add logic for determining number of clusters \n",
    "    if params['Algorithm'].upper() == 'KMEANS':\n",
    "        out_labels = k_means_clustering(inp=in_image, n_clusters=5)   \n",
    "    elif params['Algorithm'].upper() == 'FCM':\n",
    "        #TODO Add the parameter to appconfig\n",
    "        out_labels = fuzzy_c_means(inp_image=inp_image, n_clusters=2,fuzz_degree=2,error=0.005,max_iter=1000)\n",
    "    elif params['Algorithm'].upper() == 'SOM':    \n",
    "        # TODO Add Implementation \n",
    "        pass \n",
    "    elif params['Algorithm'].upper() == 'SPECTRAL':\n",
    "        # TODO Add Implementation \n",
    "        pass \n",
    "    else:\n",
    "        print('Invalid Algorithm Entered')\n",
    "        return \n",
    "    "
   ]
  }
 ],
 "metadata": {
  "kernelspec": {
   "display_name": "Python 3",
   "language": "python",
   "name": "python3"
  },
  "language_info": {
   "codemirror_mode": {
    "name": "ipython",
    "version": 3
   },
   "file_extension": ".py",
   "mimetype": "text/x-python",
   "name": "python",
   "nbconvert_exporter": "python",
   "pygments_lexer": "ipython3",
   "version": "3.6.3"
  }
 },
 "nbformat": 4,
 "nbformat_minor": 2
}
