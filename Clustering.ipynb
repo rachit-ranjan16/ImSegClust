{
 "cells": [
  {
   "cell_type": "code",
   "execution_count": 1,
   "metadata": {},
   "outputs": [],
   "source": [
    "import scipy.io as scio \n",
    "import matplotlib.cm as cm\n",
    "import matplotlib.pyplot as plt\n",
    "import matplotlib.cbook as cbook\n",
    "from sklearn.cluster import KMeans\n",
    "import spectral as sp\n",
    "import numpy as np\n",
    "import glob\n",
    "import os \n",
    "from sklearn.cluster import KMeans\n",
    "import skimage as ski \n",
    "import skfuzzy as skf"
   ]
  },
  {
   "cell_type": "code",
   "execution_count": null,
   "metadata": {},
   "outputs": [],
   "source": [
    "def k_means_clustering(inp=pavia['rgb'], n_clusters=2):\n",
    "    if inp is None:\n",
    "        print(\"Empty Input. Exiting\")\n",
    "    k_means = KMeans(n_clusters=n_clusters)\n",
    "    shape = inp.shape\n",
    "    k_means.fit(inp.flatten().reshape(shape[0]*shape[1],shape[2]))\n",
    "    inp_clustered = k_means.labels_.astype(float)\n",
    "    return inp_clustered.reshape(shape[0]*shape[1],1).reshape(shape[0],shape[1])\n",
    "\n",
    "def fuzzy_c_means(n_clusters=2,fuzz_degree=2,error=0.005,max_iter=1000,inp_image=pavia['rgb']):\n",
    "    # Added Line \n",
    "    shape = inp_image.shape\n",
    "    centers, u, u0, d, jm, n_iters, fpc = skf.cluster.cmeans(\n",
    "        inp.flatten().reshape(shape[0]*shape[1],shape[2]).T,\n",
    "        c=n_clusters,\n",
    "        m=fuzz_degree,\n",
    "        error=error,\n",
    "        maxiter=max_iter,\n",
    "        init=None,\n",
    "        seed=42\n",
    "    )\n",
    "    clust = np.argmax(u, axis=0).astype(float)\n",
    "    return clust.reshape(shape[0]*shape[1],1).reshape(shape[0],shape[1])"
   ]
  }
 ],
 "metadata": {
  "kernelspec": {
   "display_name": "Python 3",
   "language": "python",
   "name": "python3"
  },
  "language_info": {
   "codemirror_mode": {
    "name": "ipython",
    "version": 3
   },
   "file_extension": ".py",
   "mimetype": "text/x-python",
   "name": "python",
   "nbconvert_exporter": "python",
   "pygments_lexer": "ipython3",
   "version": "3.6.3"
  }
 },
 "nbformat": 4,
 "nbformat_minor": 2
}
