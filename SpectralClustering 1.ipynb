{
 "cells": [
  {
   "cell_type": "code",
   "execution_count": 1,
   "metadata": {},
   "outputs": [],
   "source": [
    "import scipy.io as scio \n",
    "import numpy as np\n",
    "import matplotlib.pyplot as plt\n",
    "import skimage as ski\n",
    "from skimage.color import rgb2grey\n",
    "from sklearn.feature_extraction import image\n",
    "import skimage.measure\n",
    "from sklearn.cluster import spectral_clustering"
   ]
  },
  {
   "cell_type": "code",
   "execution_count": 2,
   "metadata": {},
   "outputs": [],
   "source": [
    "pavia = {'rgb': scio.loadmat('PaviaRGB.mat')['PaviaRGB'],\n",
    "         'color_map' : scio.loadmat('PaviaColorMap.mat')['PaviaColorMap'],\n",
    "         'ground_truth' : scio.loadmat('PaviaGrTruth.mat')['PaviaGrTruth'],\n",
    "         'ground_truth_mask' : scio.loadmat('PaviaGrTruthMask.mat')['PaviaGrTruthMask'],\n",
    "         'wavelengths' : scio.loadmat('PaviaWavelengths.mat')['PaviaWavelengths'],\n",
    "        }\n",
    "sanbar = {'rgb': scio.loadmat('SanBarRGB.mat')['SanBarRGB'],\n",
    "          'wavelengths': scio.loadmat('SanBarWavelengths.mat')['WaveLengths'],\n",
    "          'hyperimage': scio.loadmat('SanBarHyperIm.mat')['SanBarIm88x400'],\n",
    "         }"
   ]
  },
  {
   "cell_type": "code",
   "execution_count": 5,
   "metadata": {},
   "outputs": [],
   "source": [
    "Img = pavia['rgb']\n",
    "Img = ski.color.rgb2grey(Img)\n",
    "downsample = ski.measure.block_reduce(Img, (2,2), np.max)\n",
    "downsample2 = ski.measure.block_reduce(Img, (3,3), np.max)"
   ]
  },
  {
   "cell_type": "code",
   "execution_count": 8,
   "metadata": {},
   "outputs": [],
   "source": [
    "graph = image.img_to_graph(downsample2)\n",
    "graph.data = np.exp(-graph.data / graph.data.std())"
   ]
  },
  {
   "cell_type": "code",
   "execution_count": 9,
   "metadata": {},
   "outputs": [],
   "source": [
    "labels = spectral_clustering(graph, n_clusters=4, eigen_solver='arpack')"
   ]
  }
 ],
 "metadata": {
  "kernelspec": {
   "display_name": "Python 3",
   "language": "python",
   "name": "python3"
  },
  "language_info": {
   "codemirror_mode": {
    "name": "ipython",
    "version": 3
   },
   "file_extension": ".py",
   "mimetype": "text/x-python",
   "name": "python",
   "nbconvert_exporter": "python",
   "pygments_lexer": "ipython3",
   "version": "3.5.0"
  }
 },
 "nbformat": 4,
 "nbformat_minor": 2
}
